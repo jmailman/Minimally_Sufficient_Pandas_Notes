{
 "cells": [
  {
   "cell_type": "markdown",
   "metadata": {},
   "source": [
    "# **Minimally Sufficient** Pandas summary"
   ]
  },
  {
   "cell_type": "markdown",
   "metadata": {},
   "source": [
    "## DataFrame methods and attributes\n",
    "(To go comb through, annotate, and demonstrate) "
   ]
  },
  {
   "cell_type": "markdown",
   "metadata": {},
   "source": [
    "### Attributes\n",
    "* columns\n",
    "* dtypes\n",
    "* index\n",
    "* shape\n",
    "* T\n",
    "* values"
   ]
  },
  {
   "cell_type": "markdown",
   "metadata": {},
   "source": [
    "### Aggregation Methods\n",
    "* all\n",
    "* any\n",
    "* count\n",
    "* describe\n",
    "* idxmax\n",
    "* idxmin\n",
    "* max\n",
    "* median\n",
    "* min\n",
    "* mode\n",
    "* nunique\n",
    "* sum\n",
    "* std\n",
    "* var"
   ]
  },
  {
   "cell_type": "markdown",
   "metadata": {},
   "source": [
    "### Non-Aggregation Statistical Methods\n",
    "* abs\n",
    "* clip\n",
    "* corr\n",
    "* cov\n",
    "* cummax\n",
    "* cummin\n",
    "* cumprod\n",
    "* cumsum\n",
    "* diff\n",
    "* nlargest\n",
    "* nsmallest\n",
    "* pct_change\n",
    "* prod\n",
    "* quantile\n",
    "* rank\n",
    "* round"
   ]
  },
  {
   "cell_type": "markdown",
   "metadata": {},
   "source": [
    "### Subset Selection\n",
    "* head\n",
    "* iloc\n",
    "* loc\n",
    "* tail"
   ]
  },
  {
   "cell_type": "markdown",
   "metadata": {},
   "source": [
    "### Missing Value Handling\n",
    "* dropna\n",
    "* fillna\n",
    "* interpolate\n",
    "* isna\n",
    "* notna"
   ]
  },
  {
   "cell_type": "markdown",
   "metadata": {},
   "source": [
    "### Grouping\n",
    "* expanding\n",
    "* groupby\n",
    "* pivot_table\n",
    "* resampling\n",
    "* rolling"
   ]
  },
  {
   "cell_type": "markdown",
   "metadata": {},
   "source": [
    "### Joining Data\n",
    "* append\n",
    "* merge"
   ]
  },
  {
   "cell_type": "markdown",
   "metadata": {},
   "source": [
    "### Other\n",
    "* asfreq\n",
    "* astype\n",
    "* copy\n",
    "* drop\n",
    "* drop_dubplicates\n",
    "* equals\n",
    "* isin\n",
    "* melt\n",
    "* plot\n",
    "* rename\n",
    "* replace\n",
    "* reset_index\n",
    "* sample\n",
    "* select_dtypes\n",
    "* shift\n",
    "* sort index\n",
    "* to_csv\n",
    "* to_json\n",
    "* to_sql"
   ]
  },
  {
   "cell_type": "markdown",
   "metadata": {},
   "source": [
    "### Functions\n",
    "* pd.concat\n",
    "* pd.crosstab\n",
    "* pd.qcut\n",
    "* pd.read_csv\n",
    "* pd.read_json\n",
    "* pd.read_sql\n",
    "* pd.to_datetime\n",
    "* pd.to_timedelta"
   ]
  },
  {
   "cell_type": "markdown",
   "metadata": {},
   "source": [
    "# Guidance on common tasks"
   ]
  },
  {
   "cell_type": "markdown",
   "metadata": {},
   "source": [
    "To select a single column of data...\n",
    "### Use brackets ( df.['column name'] ) for selecting a column of data\n"
   ]
  },
  {
   "cell_type": "markdown",
   "metadata": {},
   "source": [
    "---\n",
    "To select rows or cells...\n",
    "### Use loc or iloc\n",
    "#### Use loc (to select by value and column name) or iloc (to select by index"
   ]
  },
  {
   "cell_type": "markdown",
   "metadata": {},
   "source": [
    "#### Use numpy arrays if you need to optimize speed\n"
   ]
  },
  {
   "cell_type": "markdown",
   "metadata": {},
   "source": [
    "---\n",
    "To read in a data file...\n",
    "### Use read_csv\n",
    "(Set delimiter='\\t' to read in tab delimited files)\n",
    "\n"
   ]
  },
  {
   "cell_type": "markdown",
   "metadata": {},
   "source": [
    "---\n",
    "To check for null or not-a-number, when cleaning data...\n",
    "### Use isna and notna"
   ]
  },
  {
   "cell_type": "markdown",
   "metadata": {},
   "source": [
    "---\n",
    "To make arithmetic calculations or comparisons...\n",
    "### Use the operators unless you need to use the method to exploit its _axis_ parameter\n"
   ]
  },
  {
   "cell_type": "markdown",
   "metadata": {},
   "source": [
    "For instance if you need to multiply table values in another table as linked by a shared column, then use the axis='index' parameter "
   ]
  },
  {
   "cell_type": "markdown",
   "metadata": {},
   "source": [
    "---For aggregate functions... (sum, max, abs, etc.)\n",
    "### Prefer pandas over built-in python functions\n",
    "They are faster"
   ]
  },
  {
   "cell_type": "markdown",
   "metadata": {},
   "source": [
    "---\n",
    "To aggregate multiple rows sharing (usually a categorical) value into a shared row (a set of such shared rows)...\n",
    "### Use groupby\n",
    "\n",
    "df.groupby('grouping column').agg({'aggregating column': 'aggregating function'})"
   ]
  },
  {
   "cell_type": "markdown",
   "metadata": {},
   "source": [
    "#### Use pivot_table when your end goal is to compare groups\n",
    "(whereas groupby provides a datafram more amenable to further processing)"
   ]
  },
  {
   "cell_type": "markdown",
   "metadata": {},
   "source": [
    "#### Use crosstab only when finding relative frequency"
   ]
  },
  {
   "cell_type": "markdown",
   "metadata": {},
   "source": [
    "---\n",
    "To aggregate two or more columns into multiple rows of one column...\n",
    "### Use melt\n",
    "df.melt(id_vars='airline', value_vars=['Domestic', 'Intl'])\n",
    "\n",
    "(melt is equivalent to stack)\n"
   ]
  },
  {
   "cell_type": "markdown",
   "metadata": {},
   "source": [
    "To unstack (or unmelt) use pivot_table"
   ]
  },
  {
   "cell_type": "code",
   "execution_count": null,
   "metadata": {},
   "outputs": [],
   "source": []
  }
 ],
 "metadata": {
  "kernelspec": {
   "display_name": "Python 3",
   "language": "python",
   "name": "python3"
  },
  "language_info": {
   "codemirror_mode": {
    "name": "ipython",
    "version": 3
   },
   "file_extension": ".py",
   "mimetype": "text/x-python",
   "name": "python",
   "nbconvert_exporter": "python",
   "pygments_lexer": "ipython3",
   "version": "3.8.2"
  }
 },
 "nbformat": 4,
 "nbformat_minor": 4
}
